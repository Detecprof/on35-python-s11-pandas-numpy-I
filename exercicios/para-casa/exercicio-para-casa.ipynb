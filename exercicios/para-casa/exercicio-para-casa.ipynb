{
 "cells": [
  {
   "cell_type": "markdown",
   "metadata": {},
   "source": [
    "# Exercício de Casa 🏠 \n",
    "\n",
    "Utilizar a tabela de dados do clima de seu estado, manipule os dados de acordo com as instruções abaixo:\n",
    "\n",
    "- calcular a média da temperatura da amostra\n",
    "\n",
    "- retirar nulos da coluna 'RADIACAO GLOBAL (Kj/m2)\n",
    "\n",
    "- copiar o dataframe reduzindo para 3 colunas (a sua escolha) e 1000 linhas (aleatórias)"
   ]
  },
  {
   "cell_type": "code",
   "execution_count": null,
   "metadata": {},
   "outputs": [],
   "source": []
  }
 ],
 "metadata": {
  "kernelspec": {
   "display_name": "Python 3",
   "language": "python",
   "name": "python3"
  },
  "language_info": {
   "name": "python",
   "version": "3.11.4"
  }
 },
 "nbformat": 4,
 "nbformat_minor": 2
}
